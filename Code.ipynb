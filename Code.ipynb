{
 "cells": [
  {
   "cell_type": "code",
   "execution_count": 1,
   "metadata": {},
   "outputs": [
    {
     "name": "stdout",
     "output_type": "stream",
     "text": [
      "Requirement already satisfied: transformers in c:\\users\\bhumi\\anaconda3\\lib\\site-packages (4.46.3)\n",
      "Requirement already satisfied: filelock in c:\\users\\bhumi\\anaconda3\\lib\\site-packages (from transformers) (3.13.1)\n",
      "Requirement already satisfied: huggingface-hub<1.0,>=0.23.2 in c:\\users\\bhumi\\anaconda3\\lib\\site-packages (from transformers) (0.26.2)\n",
      "Requirement already satisfied: numpy>=1.17 in c:\\users\\bhumi\\anaconda3\\lib\\site-packages (from transformers) (1.26.4)\n",
      "Requirement already satisfied: packaging>=20.0 in c:\\users\\bhumi\\anaconda3\\lib\\site-packages (from transformers) (23.2)\n",
      "Requirement already satisfied: pyyaml>=5.1 in c:\\users\\bhumi\\anaconda3\\lib\\site-packages (from transformers) (6.0.1)\n",
      "Requirement already satisfied: regex!=2019.12.17 in c:\\users\\bhumi\\anaconda3\\lib\\site-packages (from transformers) (2023.10.3)\n",
      "Requirement already satisfied: requests in c:\\users\\bhumi\\anaconda3\\lib\\site-packages (from transformers) (2.32.2)\n",
      "Requirement already satisfied: tokenizers<0.21,>=0.20 in c:\\users\\bhumi\\anaconda3\\lib\\site-packages (from transformers) (0.20.3)\n",
      "Requirement already satisfied: safetensors>=0.4.1 in c:\\users\\bhumi\\anaconda3\\lib\\site-packages (from transformers) (0.4.5)\n",
      "Requirement already satisfied: tqdm>=4.27 in c:\\users\\bhumi\\anaconda3\\lib\\site-packages (from transformers) (4.66.4)\n",
      "Requirement already satisfied: fsspec>=2023.5.0 in c:\\users\\bhumi\\anaconda3\\lib\\site-packages (from huggingface-hub<1.0,>=0.23.2->transformers) (2024.3.1)\n",
      "Requirement already satisfied: typing-extensions>=3.7.4.3 in c:\\users\\bhumi\\anaconda3\\lib\\site-packages (from huggingface-hub<1.0,>=0.23.2->transformers) (4.11.0)\n",
      "Requirement already satisfied: colorama in c:\\users\\bhumi\\anaconda3\\lib\\site-packages (from tqdm>=4.27->transformers) (0.4.6)\n",
      "Requirement already satisfied: charset-normalizer<4,>=2 in c:\\users\\bhumi\\anaconda3\\lib\\site-packages (from requests->transformers) (2.0.4)\n",
      "Requirement already satisfied: idna<4,>=2.5 in c:\\users\\bhumi\\anaconda3\\lib\\site-packages (from requests->transformers) (3.7)\n",
      "Requirement already satisfied: urllib3<3,>=1.21.1 in c:\\users\\bhumi\\anaconda3\\lib\\site-packages (from requests->transformers) (2.2.2)\n",
      "Requirement already satisfied: certifi>=2017.4.17 in c:\\users\\bhumi\\anaconda3\\lib\\site-packages (from requests->transformers) (2024.7.4)\n",
      "Note: you may need to restart the kernel to use updated packages.\n"
     ]
    }
   ],
   "source": [
    "pip install transformers"
   ]
  },
  {
   "cell_type": "code",
   "execution_count": null,
   "metadata": {},
   "outputs": [
    {
     "name": "stdout",
     "output_type": "stream",
     "text": [
      "Requirement already satisfied: transformers in c:\\users\\bhumi\\anaconda3\\lib\\site-packages (4.46.3)\n",
      "Requirement already satisfied: torch in c:\\users\\bhumi\\anaconda3\\lib\\site-packages (2.5.1)\n",
      "Requirement already satisfied: filelock in c:\\users\\bhumi\\anaconda3\\lib\\site-packages (from transformers) (3.13.1)\n",
      "Requirement already satisfied: huggingface-hub<1.0,>=0.23.2 in c:\\users\\bhumi\\anaconda3\\lib\\site-packages (from transformers) (0.26.2)\n",
      "Requirement already satisfied: numpy>=1.17 in c:\\users\\bhumi\\anaconda3\\lib\\site-packages (from transformers) (1.26.4)\n",
      "Requirement already satisfied: packaging>=20.0 in c:\\users\\bhumi\\anaconda3\\lib\\site-packages (from transformers) (23.2)\n",
      "Requirement already satisfied: pyyaml>=5.1 in c:\\users\\bhumi\\anaconda3\\lib\\site-packages (from transformers) (6.0.1)\n",
      "Requirement already satisfied: regex!=2019.12.17 in c:\\users\\bhumi\\anaconda3\\lib\\site-packages (from transformers) (2023.10.3)\n",
      "Requirement already satisfied: requests in c:\\users\\bhumi\\anaconda3\\lib\\site-packages (from transformers) (2.32.2)\n",
      "Requirement already satisfied: tokenizers<0.21,>=0.20 in c:\\users\\bhumi\\anaconda3\\lib\\site-packages (from transformers) (0.20.3)\n",
      "Requirement already satisfied: safetensors>=0.4.1 in c:\\users\\bhumi\\anaconda3\\lib\\site-packages (from transformers) (0.4.5)\n",
      "Requirement already satisfied: tqdm>=4.27 in c:\\users\\bhumi\\anaconda3\\lib\\site-packages (from transformers) (4.66.4)\n",
      "Requirement already satisfied: typing-extensions>=4.8.0 in c:\\users\\bhumi\\anaconda3\\lib\\site-packages (from torch) (4.11.0)\n",
      "Requirement already satisfied: networkx in c:\\users\\bhumi\\anaconda3\\lib\\site-packages (from torch) (3.2.1)\n",
      "Requirement already satisfied: jinja2 in c:\\users\\bhumi\\anaconda3\\lib\\site-packages (from torch) (3.1.4)\n",
      "Requirement already satisfied: fsspec in c:\\users\\bhumi\\anaconda3\\lib\\site-packages (from torch) (2024.3.1)\n",
      "Requirement already satisfied: setuptools in c:\\users\\bhumi\\anaconda3\\lib\\site-packages (from torch) (69.5.1)\n",
      "Requirement already satisfied: sympy==1.13.1 in c:\\users\\bhumi\\anaconda3\\lib\\site-packages (from torch) (1.13.1)\n",
      "Requirement already satisfied: mpmath<1.4,>=1.1.0 in c:\\users\\bhumi\\anaconda3\\lib\\site-packages (from sympy==1.13.1->torch) (1.3.0)\n",
      "Requirement already satisfied: colorama in c:\\users\\bhumi\\anaconda3\\lib\\site-packages (from tqdm>=4.27->transformers) (0.4.6)\n",
      "Requirement already satisfied: MarkupSafe>=2.0 in c:\\users\\bhumi\\anaconda3\\lib\\site-packages (from jinja2->torch) (2.1.3)\n",
      "Requirement already satisfied: charset-normalizer<4,>=2 in c:\\users\\bhumi\\anaconda3\\lib\\site-packages (from requests->transformers) (2.0.4)\n",
      "Requirement already satisfied: idna<4,>=2.5 in c:\\users\\bhumi\\anaconda3\\lib\\site-packages (from requests->transformers) (3.7)\n",
      "Requirement already satisfied: urllib3<3,>=1.21.1 in c:\\users\\bhumi\\anaconda3\\lib\\site-packages (from requests->transformers) (2.2.2)\n",
      "Requirement already satisfied: certifi>=2017.4.17 in c:\\users\\bhumi\\anaconda3\\lib\\site-packages (from requests->transformers) (2024.7.4)\n"
     ]
    }
   ],
   "source": [
    "!pip install transformers torch\n",
    "\n",
    "from transformers import pipeline"
   ]
  },
  {
   "cell_type": "code",
   "execution_count": 23,
   "metadata": {},
   "outputs": [
    {
     "name": "stderr",
     "output_type": "stream",
     "text": [
      "No model was supplied, defaulted to sshleifer/distilbart-cnn-12-6 and revision a4f8f3e (https://huggingface.co/sshleifer/distilbart-cnn-12-6).\n",
      "Using a pipeline without specifying a model name and revision in production is not recommended.\n"
     ]
    }
   ],
   "source": [
    "summarizer = pipeline(\"summarization\")"
   ]
  },
  {
   "cell_type": "code",
   "execution_count": 24,
   "metadata": {},
   "outputs": [],
   "source": [
    "def summarize_text(text, max_length=130, min_length=30):\n",
    "    \"\"\"\n",
    "    Summarizes the input text using the Hugging Face Transformers library.\n",
    "    \n",
    "    Parameters:\n",
    "    - text (str): The input text to summarize.\n",
    "    - max_length (int): Maximum length of the summary. Default is 130.\n",
    "    - min_length (int): Minimum length of the summary. Default is 30.\n",
    "    \n",
    "    Returns:\n",
    "    - str: The summarized text.\n",
    "    \"\"\"\n",
    "    try:\n",
    "        summary = summarizer(text, max_length=max_length, min_length=min_length, do_sample=False)\n",
    "        return summary[0]['summary_text']\n",
    "    except Exception as e:\n",
    "        return f\"Error: {str(e)}\""
   ]
  },
  {
   "cell_type": "code",
   "execution_count": null,
   "metadata": {},
   "outputs": [],
   "source": [
    "sample_text = \"\"\"\n",
    "Vallabhbhai Jhaverbhai Patel, commonly known as Sardar Vallabhbhai Patel,[a] was an Indian independence activist and statesman who served as the first Deputy Prime Minister and Home Minister of India from 1947 to 1950. He was a senior leader of the Indian National Congress, who played a significant role in the Indian independence movement and India's political integration.[1] In India and elsewhere, he was often called Sardar, meaning \"Chief\" in Hindi, Urdu, Bengali and Persian. He acted as the Home Minister during the political integration of India and the Indo-Pakistani War of 1947.[2]\n",
    "\n",
    "Patel was born in Nadiad, Kheda district and raised in the countryside of the state of Gujarat.[3] He was a successful lawyer. One of Mahatma Gandhi's earliest political lieutenants, he organised peasants from Kheda, Borsad and Bardoli in Gujarat in non-violent civil disobedience against the British Raj, becoming one of the most influential leaders in Gujarat. He was appointed as the 49th President of Indian National Congress. Under the chairmanship of Patel \"Fundamental Rights and Economic Policy\" resolution was passed by the Congress. Patel's position at the highest level in the Congress was largely connected with his role from 1934 onwards (when the Congress abandoned its boycott of elections) in the party organisation. Based at an apartment in Bombay, he became the Congress's main fundraiser and chairman of its Central Parliamentary Board, playing the leading role in selecting and financing candidates for the 1934 elections to the Central Legislative Assembly in New Delhi and for the provincial elections of 1936.[4] While promoting the Quit India Movement. Patel made a climactic speech to more than 100,000 people gathered at Gowalia Tank in Bombay on 7 August 1942. Historians believe that Patel's speech was instrumental in electrifying nationalists, who up to then had been sceptical of the proposed rebellion. Patel's organising work in this period is credited by historians with ensuring the success of the rebellion across India.[5]\"\"\""
   ]
  },
  {
   "cell_type": "code",
   "execution_count": 28,
   "metadata": {},
   "outputs": [
    {
     "name": "stdout",
     "output_type": "stream",
     "text": [
      "Original Text:\n",
      "\n",
      "Vallabhbhai Jhaverbhai Patel (Gujarati: [ʋəlːəbːʰɑi dʒʰəʋeɾbʰɑi pəʈel]; ISO: Vallabhbhāī Jhāverbhāī Paṭel; 31 October 1875 – 15 December 1950), commonly known as Sardar Vallabhbhai Patel,[a] was an Indian independence activist and statesman who served as the first Deputy Prime Minister and Home Minister of India from 1947 to 1950. He was a senior leader of the Indian National Congress, who played a significant role in the Indian independence movement and India's political integration.[1] In India and elsewhere, he was often called Sardar, meaning \"Chief\" in Hindi, Urdu, Bengali and Persian. He acted as the Home Minister during the political integration of India and the Indo-Pakistani War of 1947.[2]\n",
      "\n",
      "Patel was born in Nadiad, Kheda district and raised in the countryside of the state of Gujarat.[3] He was a successful lawyer. One of Mahatma Gandhi's earliest political lieutenants, he organised peasants from Kheda, Borsad and Bardoli in Gujarat in non-violent civil disobedience against the British Raj, becoming one of the most influential leaders in Gujarat. He was appointed as the 49th President of Indian National Congress. Under the chairmanship of Patel \"Fundamental Rights and Economic Policy\" resolution was passed by the Congress. Patel's position at the highest level in the Congress was largely connected with his role from 1934 onwards (when the Congress abandoned its boycott of elections) in the party organisation. Based at an apartment in Bombay, he became the Congress's main fundraiser and chairman of its Central Parliamentary Board, playing the leading role in selecting and financing candidates for the 1934 elections to the Central Legislative Assembly in New Delhi and for the provincial elections of 1936.[4] While promoting the Quit India Movement. Patel made a climactic speech to more than 100,000 people gathered at Gowalia Tank in Bombay on 7 August 1942. Historians believe that Patel's speech was instrumental in electrifying nationalists, who up to then had been sceptical of the proposed rebellion. Patel's organising work in this period is credited by historians with ensuring the success of the rebellion across India.[5]\n",
      "\n",
      "Summary:\n",
      " Sardar Vallabhbhai Patel was born in Nadiad, Kheda district and raised in the countryside of Gujarat . He was one of Mahatma Gandhi's earliest political lieutenants . He organised peasants in non-violent civil disobedience against the British Raj . Patel was appointed as the 49th President of Indian National Congress .\n"
     ]
    }
   ],
   "source": [
    "print(\"Original Text:\")\n",
    "print(sample_text)\n",
    "summary = summarize_text(sample_text)\n",
    "print(\"\\nSummary:\")\n",
    "print(summary)"
   ]
  },
  {
   "cell_type": "code",
   "execution_count": 29,
   "metadata": {},
   "outputs": [
    {
     "name": "stdout",
     "output_type": "stream",
     "text": [
      "\n",
      "=== User Input ===\n",
      "\n",
      "Summarized Text:\n",
      " Sardar Vallabhbhai Patel was born in Nadiad, Kheda district and raised in the countryside of the state of Gujarat . He was a successful lawyer and was one of Mahatma Gandhi's earliest political lieutenants . He organised peasants from Gujarat in non-violent civil disobedience against the British Raj, becoming one of the most influential leaders in Gujarat .\n"
     ]
    }
   ],
   "source": [
    "print(\"\\n=== User Input ===\")\n",
    "user_input_text = input(\"Enter the text you want to summarize: \")\n",
    "if user_input_text.strip():\n",
    "    user_summary = summarize_text(user_input_text)\n",
    "    print(\"\\nSummarized Text:\")\n",
    "    print(user_summary)\n",
    "else:\n",
    "    print(\"No text provided for summarization.\")"
   ]
  },
  {
   "cell_type": "code",
   "execution_count": null,
   "metadata": {},
   "outputs": [],
   "source": []
  }
 ],
 "metadata": {
  "kernelspec": {
   "display_name": "base",
   "language": "python",
   "name": "python3"
  },
  "language_info": {
   "codemirror_mode": {
    "name": "ipython",
    "version": 3
   },
   "file_extension": ".py",
   "mimetype": "text/x-python",
   "name": "python",
   "nbconvert_exporter": "python",
   "pygments_lexer": "ipython3",
   "version": "3.12.4"
  }
 },
 "nbformat": 4,
 "nbformat_minor": 2
}
